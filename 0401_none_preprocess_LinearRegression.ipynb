{
  "nbformat": 4,
  "nbformat_minor": 0,
  "metadata": {
    "colab": {
      "provenance": []
    },
    "kernelspec": {
      "name": "python3",
      "display_name": "Python 3"
    },
    "language_info": {
      "name": "python"
    }
  },
  "cells": [
    {
      "cell_type": "markdown",
      "source": [
        "# 0. Data load"
      ],
      "metadata": {
        "id": "f8Qy_vRY9hEu"
      }
    },
    {
      "cell_type": "code",
      "source": [
        "from google.colab import drive\n",
        "drive.mount('/content/drive')"
      ],
      "metadata": {
        "colab": {
          "base_uri": "https://localhost:8080/"
        },
        "id": "WcHnjN8WABKM",
        "outputId": "bc72303a-55c7-4ecf-80c3-bf7eab2b7ad5"
      },
      "execution_count": null,
      "outputs": [
        {
          "output_type": "stream",
          "name": "stdout",
          "text": [
            "Mounted at /content/drive\n"
          ]
        }
      ]
    },
    {
      "cell_type": "code",
      "source": [
        "cd drive/MyDrive/Dacon_income_prediction/data/"
      ],
      "metadata": {
        "colab": {
          "base_uri": "https://localhost:8080/"
        },
        "id": "nd6Zxc9rAdHc",
        "outputId": "83763b03-ff09-48ca-ba69-365947b72578"
      },
      "execution_count": null,
      "outputs": [
        {
          "output_type": "stream",
          "name": "stdout",
          "text": [
            "/content/drive/MyDrive/Dacon_income_prediction/data\n"
          ]
        }
      ]
    },
    {
      "cell_type": "code",
      "source": [
        "ls"
      ],
      "metadata": {
        "colab": {
          "base_uri": "https://localhost:8080/"
        },
        "id": "Apo6C2q_9BVt",
        "outputId": "e6e9bc0d-a2b3-4b42-f6ef-44e4402956a1"
      },
      "execution_count": null,
      "outputs": [
        {
          "output_type": "stream",
          "name": "stdout",
          "text": [
            "sample_submission.csv  test.csv  train.csv\n"
          ]
        }
      ]
    },
    {
      "cell_type": "code",
      "source": [
        "import random\n",
        "random.seed(42)"
      ],
      "metadata": {
        "id": "Le8uEiM9C56g"
      },
      "execution_count": null,
      "outputs": []
    },
    {
      "cell_type": "code",
      "source": [
        "import numpy as np\n",
        "import pandas as pd\n",
        "import matplotlib.pyplot as plt"
      ],
      "metadata": {
        "id": "V8vX0rkm9Srt"
      },
      "execution_count": null,
      "outputs": []
    },
    {
      "cell_type": "code",
      "source": [
        "df = pd.read_csv('train.csv')"
      ],
      "metadata": {
        "id": "giYvtQ6jBFY7"
      },
      "execution_count": null,
      "outputs": []
    },
    {
      "cell_type": "code",
      "source": [
        "df.head()"
      ],
      "metadata": {
        "colab": {
          "base_uri": "https://localhost:8080/",
          "height": 411
        },
        "id": "56VkC-eFBMHf",
        "outputId": "f786ddb7-4be6-43ca-cd7c-a35f9d9afc43"
      },
      "execution_count": null,
      "outputs": [
        {
          "output_type": "execute_result",
          "data": {
            "text/plain": [
              "            ID  Age Gender                Education_Status Employment_Status  \\\n",
              "0  TRAIN_00000   63      M                    Middle (7-8)         Full-Time   \n",
              "1  TRAIN_00001   37      M  Associates degree (Vocational)         Full-Time   \n",
              "2  TRAIN_00002   58      F                   High graduate         Full-Time   \n",
              "3  TRAIN_00003   44      M                   High graduate         Full-Time   \n",
              "4  TRAIN_00004   37      F                   High graduate         Full-Time   \n",
              "\n",
              "   Working_Week (Yearly)              Industry_Status  \\\n",
              "0                      4              Social Services   \n",
              "1                     52                Entertainment   \n",
              "2                     52  Manufacturing (Non-durable)   \n",
              "3                     52                       Retail   \n",
              "4                     52                       Retail   \n",
              "\n",
              "                  Occupation_Status   Race Hispanic_Origin  ... Citizenship  \\\n",
              "0                          Services  White       All other  ...      Native   \n",
              "1                          Services  White       All other  ...      Native   \n",
              "2  Admin Support (include Clerical)  Black       All other  ...      Native   \n",
              "3             Technicians & Support  White       All other  ...      Native   \n",
              "4                             Sales  White       All other  ...      Native   \n",
              "\n",
              "  Birth_Country Birth_Country (Father) Birth_Country (Mother)  \\\n",
              "0            US                     US                     US   \n",
              "1            US                     US                     US   \n",
              "2            US                     US                     US   \n",
              "3            US                     US                     US   \n",
              "4            US                     US                     US   \n",
              "\n",
              "                                    Tax_Status Gains Losses Dividends  \\\n",
              "0                                     Nonfiler     0      0         0   \n",
              "1                                       Single     0      0         0   \n",
              "2  Married Filling Jointly both under 65 (MFJ)  3411      0         0   \n",
              "3                                       Single     0      0         0   \n",
              "4                      Head of Household (HOH)     0      0         0   \n",
              "\n",
              "   Income_Status  Income  \n",
              "0        Unknown     425  \n",
              "1   Under Median       0  \n",
              "2   Under Median     860  \n",
              "3   Under Median     850  \n",
              "4        Unknown     570  \n",
              "\n",
              "[5 rows x 23 columns]"
            ],
            "text/html": [
              "\n",
              "  <div id=\"df-03a571a7-442b-4e51-a981-3d891d9855c6\" class=\"colab-df-container\">\n",
              "    <div>\n",
              "<style scoped>\n",
              "    .dataframe tbody tr th:only-of-type {\n",
              "        vertical-align: middle;\n",
              "    }\n",
              "\n",
              "    .dataframe tbody tr th {\n",
              "        vertical-align: top;\n",
              "    }\n",
              "\n",
              "    .dataframe thead th {\n",
              "        text-align: right;\n",
              "    }\n",
              "</style>\n",
              "<table border=\"1\" class=\"dataframe\">\n",
              "  <thead>\n",
              "    <tr style=\"text-align: right;\">\n",
              "      <th></th>\n",
              "      <th>ID</th>\n",
              "      <th>Age</th>\n",
              "      <th>Gender</th>\n",
              "      <th>Education_Status</th>\n",
              "      <th>Employment_Status</th>\n",
              "      <th>Working_Week (Yearly)</th>\n",
              "      <th>Industry_Status</th>\n",
              "      <th>Occupation_Status</th>\n",
              "      <th>Race</th>\n",
              "      <th>Hispanic_Origin</th>\n",
              "      <th>...</th>\n",
              "      <th>Citizenship</th>\n",
              "      <th>Birth_Country</th>\n",
              "      <th>Birth_Country (Father)</th>\n",
              "      <th>Birth_Country (Mother)</th>\n",
              "      <th>Tax_Status</th>\n",
              "      <th>Gains</th>\n",
              "      <th>Losses</th>\n",
              "      <th>Dividends</th>\n",
              "      <th>Income_Status</th>\n",
              "      <th>Income</th>\n",
              "    </tr>\n",
              "  </thead>\n",
              "  <tbody>\n",
              "    <tr>\n",
              "      <th>0</th>\n",
              "      <td>TRAIN_00000</td>\n",
              "      <td>63</td>\n",
              "      <td>M</td>\n",
              "      <td>Middle (7-8)</td>\n",
              "      <td>Full-Time</td>\n",
              "      <td>4</td>\n",
              "      <td>Social Services</td>\n",
              "      <td>Services</td>\n",
              "      <td>White</td>\n",
              "      <td>All other</td>\n",
              "      <td>...</td>\n",
              "      <td>Native</td>\n",
              "      <td>US</td>\n",
              "      <td>US</td>\n",
              "      <td>US</td>\n",
              "      <td>Nonfiler</td>\n",
              "      <td>0</td>\n",
              "      <td>0</td>\n",
              "      <td>0</td>\n",
              "      <td>Unknown</td>\n",
              "      <td>425</td>\n",
              "    </tr>\n",
              "    <tr>\n",
              "      <th>1</th>\n",
              "      <td>TRAIN_00001</td>\n",
              "      <td>37</td>\n",
              "      <td>M</td>\n",
              "      <td>Associates degree (Vocational)</td>\n",
              "      <td>Full-Time</td>\n",
              "      <td>52</td>\n",
              "      <td>Entertainment</td>\n",
              "      <td>Services</td>\n",
              "      <td>White</td>\n",
              "      <td>All other</td>\n",
              "      <td>...</td>\n",
              "      <td>Native</td>\n",
              "      <td>US</td>\n",
              "      <td>US</td>\n",
              "      <td>US</td>\n",
              "      <td>Single</td>\n",
              "      <td>0</td>\n",
              "      <td>0</td>\n",
              "      <td>0</td>\n",
              "      <td>Under Median</td>\n",
              "      <td>0</td>\n",
              "    </tr>\n",
              "    <tr>\n",
              "      <th>2</th>\n",
              "      <td>TRAIN_00002</td>\n",
              "      <td>58</td>\n",
              "      <td>F</td>\n",
              "      <td>High graduate</td>\n",
              "      <td>Full-Time</td>\n",
              "      <td>52</td>\n",
              "      <td>Manufacturing (Non-durable)</td>\n",
              "      <td>Admin Support (include Clerical)</td>\n",
              "      <td>Black</td>\n",
              "      <td>All other</td>\n",
              "      <td>...</td>\n",
              "      <td>Native</td>\n",
              "      <td>US</td>\n",
              "      <td>US</td>\n",
              "      <td>US</td>\n",
              "      <td>Married Filling Jointly both under 65 (MFJ)</td>\n",
              "      <td>3411</td>\n",
              "      <td>0</td>\n",
              "      <td>0</td>\n",
              "      <td>Under Median</td>\n",
              "      <td>860</td>\n",
              "    </tr>\n",
              "    <tr>\n",
              "      <th>3</th>\n",
              "      <td>TRAIN_00003</td>\n",
              "      <td>44</td>\n",
              "      <td>M</td>\n",
              "      <td>High graduate</td>\n",
              "      <td>Full-Time</td>\n",
              "      <td>52</td>\n",
              "      <td>Retail</td>\n",
              "      <td>Technicians &amp; Support</td>\n",
              "      <td>White</td>\n",
              "      <td>All other</td>\n",
              "      <td>...</td>\n",
              "      <td>Native</td>\n",
              "      <td>US</td>\n",
              "      <td>US</td>\n",
              "      <td>US</td>\n",
              "      <td>Single</td>\n",
              "      <td>0</td>\n",
              "      <td>0</td>\n",
              "      <td>0</td>\n",
              "      <td>Under Median</td>\n",
              "      <td>850</td>\n",
              "    </tr>\n",
              "    <tr>\n",
              "      <th>4</th>\n",
              "      <td>TRAIN_00004</td>\n",
              "      <td>37</td>\n",
              "      <td>F</td>\n",
              "      <td>High graduate</td>\n",
              "      <td>Full-Time</td>\n",
              "      <td>52</td>\n",
              "      <td>Retail</td>\n",
              "      <td>Sales</td>\n",
              "      <td>White</td>\n",
              "      <td>All other</td>\n",
              "      <td>...</td>\n",
              "      <td>Native</td>\n",
              "      <td>US</td>\n",
              "      <td>US</td>\n",
              "      <td>US</td>\n",
              "      <td>Head of Household (HOH)</td>\n",
              "      <td>0</td>\n",
              "      <td>0</td>\n",
              "      <td>0</td>\n",
              "      <td>Unknown</td>\n",
              "      <td>570</td>\n",
              "    </tr>\n",
              "  </tbody>\n",
              "</table>\n",
              "<p>5 rows × 23 columns</p>\n",
              "</div>\n",
              "    <div class=\"colab-df-buttons\">\n",
              "\n",
              "  <div class=\"colab-df-container\">\n",
              "    <button class=\"colab-df-convert\" onclick=\"convertToInteractive('df-03a571a7-442b-4e51-a981-3d891d9855c6')\"\n",
              "            title=\"Convert this dataframe to an interactive table.\"\n",
              "            style=\"display:none;\">\n",
              "\n",
              "  <svg xmlns=\"http://www.w3.org/2000/svg\" height=\"24px\" viewBox=\"0 -960 960 960\">\n",
              "    <path d=\"M120-120v-720h720v720H120Zm60-500h600v-160H180v160Zm220 220h160v-160H400v160Zm0 220h160v-160H400v160ZM180-400h160v-160H180v160Zm440 0h160v-160H620v160ZM180-180h160v-160H180v160Zm440 0h160v-160H620v160Z\"/>\n",
              "  </svg>\n",
              "    </button>\n",
              "\n",
              "  <style>\n",
              "    .colab-df-container {\n",
              "      display:flex;\n",
              "      gap: 12px;\n",
              "    }\n",
              "\n",
              "    .colab-df-convert {\n",
              "      background-color: #E8F0FE;\n",
              "      border: none;\n",
              "      border-radius: 50%;\n",
              "      cursor: pointer;\n",
              "      display: none;\n",
              "      fill: #1967D2;\n",
              "      height: 32px;\n",
              "      padding: 0 0 0 0;\n",
              "      width: 32px;\n",
              "    }\n",
              "\n",
              "    .colab-df-convert:hover {\n",
              "      background-color: #E2EBFA;\n",
              "      box-shadow: 0px 1px 2px rgba(60, 64, 67, 0.3), 0px 1px 3px 1px rgba(60, 64, 67, 0.15);\n",
              "      fill: #174EA6;\n",
              "    }\n",
              "\n",
              "    .colab-df-buttons div {\n",
              "      margin-bottom: 4px;\n",
              "    }\n",
              "\n",
              "    [theme=dark] .colab-df-convert {\n",
              "      background-color: #3B4455;\n",
              "      fill: #D2E3FC;\n",
              "    }\n",
              "\n",
              "    [theme=dark] .colab-df-convert:hover {\n",
              "      background-color: #434B5C;\n",
              "      box-shadow: 0px 1px 3px 1px rgba(0, 0, 0, 0.15);\n",
              "      filter: drop-shadow(0px 1px 2px rgba(0, 0, 0, 0.3));\n",
              "      fill: #FFFFFF;\n",
              "    }\n",
              "  </style>\n",
              "\n",
              "    <script>\n",
              "      const buttonEl =\n",
              "        document.querySelector('#df-03a571a7-442b-4e51-a981-3d891d9855c6 button.colab-df-convert');\n",
              "      buttonEl.style.display =\n",
              "        google.colab.kernel.accessAllowed ? 'block' : 'none';\n",
              "\n",
              "      async function convertToInteractive(key) {\n",
              "        const element = document.querySelector('#df-03a571a7-442b-4e51-a981-3d891d9855c6');\n",
              "        const dataTable =\n",
              "          await google.colab.kernel.invokeFunction('convertToInteractive',\n",
              "                                                    [key], {});\n",
              "        if (!dataTable) return;\n",
              "\n",
              "        const docLinkHtml = 'Like what you see? Visit the ' +\n",
              "          '<a target=\"_blank\" href=https://colab.research.google.com/notebooks/data_table.ipynb>data table notebook</a>'\n",
              "          + ' to learn more about interactive tables.';\n",
              "        element.innerHTML = '';\n",
              "        dataTable['output_type'] = 'display_data';\n",
              "        await google.colab.output.renderOutput(dataTable, element);\n",
              "        const docLink = document.createElement('div');\n",
              "        docLink.innerHTML = docLinkHtml;\n",
              "        element.appendChild(docLink);\n",
              "      }\n",
              "    </script>\n",
              "  </div>\n",
              "\n",
              "\n",
              "<div id=\"df-421c99b3-de36-41b9-8e18-53ed88a0042d\">\n",
              "  <button class=\"colab-df-quickchart\" onclick=\"quickchart('df-421c99b3-de36-41b9-8e18-53ed88a0042d')\"\n",
              "            title=\"Suggest charts\"\n",
              "            style=\"display:none;\">\n",
              "\n",
              "<svg xmlns=\"http://www.w3.org/2000/svg\" height=\"24px\"viewBox=\"0 0 24 24\"\n",
              "     width=\"24px\">\n",
              "    <g>\n",
              "        <path d=\"M19 3H5c-1.1 0-2 .9-2 2v14c0 1.1.9 2 2 2h14c1.1 0 2-.9 2-2V5c0-1.1-.9-2-2-2zM9 17H7v-7h2v7zm4 0h-2V7h2v10zm4 0h-2v-4h2v4z\"/>\n",
              "    </g>\n",
              "</svg>\n",
              "  </button>\n",
              "\n",
              "<style>\n",
              "  .colab-df-quickchart {\n",
              "      --bg-color: #E8F0FE;\n",
              "      --fill-color: #1967D2;\n",
              "      --hover-bg-color: #E2EBFA;\n",
              "      --hover-fill-color: #174EA6;\n",
              "      --disabled-fill-color: #AAA;\n",
              "      --disabled-bg-color: #DDD;\n",
              "  }\n",
              "\n",
              "  [theme=dark] .colab-df-quickchart {\n",
              "      --bg-color: #3B4455;\n",
              "      --fill-color: #D2E3FC;\n",
              "      --hover-bg-color: #434B5C;\n",
              "      --hover-fill-color: #FFFFFF;\n",
              "      --disabled-bg-color: #3B4455;\n",
              "      --disabled-fill-color: #666;\n",
              "  }\n",
              "\n",
              "  .colab-df-quickchart {\n",
              "    background-color: var(--bg-color);\n",
              "    border: none;\n",
              "    border-radius: 50%;\n",
              "    cursor: pointer;\n",
              "    display: none;\n",
              "    fill: var(--fill-color);\n",
              "    height: 32px;\n",
              "    padding: 0;\n",
              "    width: 32px;\n",
              "  }\n",
              "\n",
              "  .colab-df-quickchart:hover {\n",
              "    background-color: var(--hover-bg-color);\n",
              "    box-shadow: 0 1px 2px rgba(60, 64, 67, 0.3), 0 1px 3px 1px rgba(60, 64, 67, 0.15);\n",
              "    fill: var(--button-hover-fill-color);\n",
              "  }\n",
              "\n",
              "  .colab-df-quickchart-complete:disabled,\n",
              "  .colab-df-quickchart-complete:disabled:hover {\n",
              "    background-color: var(--disabled-bg-color);\n",
              "    fill: var(--disabled-fill-color);\n",
              "    box-shadow: none;\n",
              "  }\n",
              "\n",
              "  .colab-df-spinner {\n",
              "    border: 2px solid var(--fill-color);\n",
              "    border-color: transparent;\n",
              "    border-bottom-color: var(--fill-color);\n",
              "    animation:\n",
              "      spin 1s steps(1) infinite;\n",
              "  }\n",
              "\n",
              "  @keyframes spin {\n",
              "    0% {\n",
              "      border-color: transparent;\n",
              "      border-bottom-color: var(--fill-color);\n",
              "      border-left-color: var(--fill-color);\n",
              "    }\n",
              "    20% {\n",
              "      border-color: transparent;\n",
              "      border-left-color: var(--fill-color);\n",
              "      border-top-color: var(--fill-color);\n",
              "    }\n",
              "    30% {\n",
              "      border-color: transparent;\n",
              "      border-left-color: var(--fill-color);\n",
              "      border-top-color: var(--fill-color);\n",
              "      border-right-color: var(--fill-color);\n",
              "    }\n",
              "    40% {\n",
              "      border-color: transparent;\n",
              "      border-right-color: var(--fill-color);\n",
              "      border-top-color: var(--fill-color);\n",
              "    }\n",
              "    60% {\n",
              "      border-color: transparent;\n",
              "      border-right-color: var(--fill-color);\n",
              "    }\n",
              "    80% {\n",
              "      border-color: transparent;\n",
              "      border-right-color: var(--fill-color);\n",
              "      border-bottom-color: var(--fill-color);\n",
              "    }\n",
              "    90% {\n",
              "      border-color: transparent;\n",
              "      border-bottom-color: var(--fill-color);\n",
              "    }\n",
              "  }\n",
              "</style>\n",
              "\n",
              "  <script>\n",
              "    async function quickchart(key) {\n",
              "      const quickchartButtonEl =\n",
              "        document.querySelector('#' + key + ' button');\n",
              "      quickchartButtonEl.disabled = true;  // To prevent multiple clicks.\n",
              "      quickchartButtonEl.classList.add('colab-df-spinner');\n",
              "      try {\n",
              "        const charts = await google.colab.kernel.invokeFunction(\n",
              "            'suggestCharts', [key], {});\n",
              "      } catch (error) {\n",
              "        console.error('Error during call to suggestCharts:', error);\n",
              "      }\n",
              "      quickchartButtonEl.classList.remove('colab-df-spinner');\n",
              "      quickchartButtonEl.classList.add('colab-df-quickchart-complete');\n",
              "    }\n",
              "    (() => {\n",
              "      let quickchartButtonEl =\n",
              "        document.querySelector('#df-421c99b3-de36-41b9-8e18-53ed88a0042d button');\n",
              "      quickchartButtonEl.style.display =\n",
              "        google.colab.kernel.accessAllowed ? 'block' : 'none';\n",
              "    })();\n",
              "  </script>\n",
              "</div>\n",
              "\n",
              "    </div>\n",
              "  </div>\n"
            ],
            "application/vnd.google.colaboratory.intrinsic+json": {
              "type": "dataframe",
              "variable_name": "df"
            }
          },
          "metadata": {},
          "execution_count": 19
        }
      ]
    },
    {
      "cell_type": "markdown",
      "source": [
        "# 1. 기본 LinearRegression"
      ],
      "metadata": {
        "id": "ma7ajJkqDxU_"
      }
    },
    {
      "cell_type": "code",
      "source": [
        "from sklearn.model_selection import train_test_split\n",
        "from sklearn.linear_model import LinearRegression\n",
        "from sklearn.metrics import mean_squared_error\n",
        "\n",
        "df = pd.read_csv('train.csv')\n",
        "\n",
        "# 'ID' 열 제거\n",
        "df = df.drop(columns=['ID'])\n",
        "\n",
        "# 결측치 처리 (예시로 각 열의 중앙값(median)으로 대체)\n",
        "df.fillna(df.median(), inplace=True)\n",
        "\n",
        "# 이산형 변수를 더미 변수로 변환\n",
        "df = pd.get_dummies(df)\n",
        "\n",
        "# 'income'을 예측하기 위한 특성과 타겟 분리\n",
        "X = df.drop(columns=['Income'])\n",
        "y = df['Income']\n",
        "\n",
        "# 데이터를 훈련 세트와 테스트 세트로 분할\n",
        "X_train, X_test, y_train, y_test = train_test_split(X, y, test_size=0.2, random_state=42)\n",
        "\n",
        "# 선형 회귀 모델 초기화 및 훈련\n",
        "model = LinearRegression()\n",
        "model.fit(X_train, y_train)\n",
        "\n",
        "# 테스트 세트를 사용하여 예측\n",
        "y_pred = model.predict(X_test)\n",
        "\n",
        "# RMSE 계산\n",
        "rmse = mean_squared_error(y_test, y_pred, squared=False)\n",
        "print('Root Mean Squared Error (RMSE):', rmse)\n"
      ],
      "metadata": {
        "id": "zags7Sky_Vdh",
        "colab": {
          "base_uri": "https://localhost:8080/"
        },
        "outputId": "01586ee8-e96b-47f3-d274-290e1efbef38"
      },
      "execution_count": null,
      "outputs": [
        {
          "output_type": "stream",
          "name": "stderr",
          "text": [
            "<ipython-input-25-b1e59064c4bf>:11: FutureWarning: The default value of numeric_only in DataFrame.median is deprecated. In a future version, it will default to False. In addition, specifying 'numeric_only=None' is deprecated. Select only valid columns or specify the value of numeric_only to silence this warning.\n",
            "  df.fillna(df.median(), inplace=True)\n"
          ]
        },
        {
          "output_type": "stream",
          "name": "stdout",
          "text": [
            "Root Mean Squared Error (RMSE): 596.7647266113521\n"
          ]
        }
      ]
    },
    {
      "cell_type": "markdown",
      "source": [
        "제출"
      ],
      "metadata": {
        "id": "_tab8sMGD0PI"
      }
    },
    {
      "cell_type": "code",
      "source": [
        "import pandas as pd\n",
        "\n",
        "# 테스트 데이터 불러오기\n",
        "test_df = pd.read_csv('test.csv')  # 테스트 데이터 파일 경로에 따라 수정\n",
        "\n",
        "# 'ID' 열 저장 후 제거\n",
        "ids = test_df['ID']\n",
        "test_df = test_df.drop(columns=['ID'])\n",
        "\n",
        "# 결측치 처리 (예시로 각 열의 중앙값(median)으로 대체)\n",
        "test_df.fillna(test_df.median(), inplace=True)\n",
        "\n",
        "# 이산형 변수를 더미 변수로 변환\n",
        "test_df = pd.get_dummies(test_df)\n",
        "\n",
        "# 훈련 데이터와 동일한 열 순서를 맞춰줍니다.\n",
        "test_df = test_df.reindex(columns=X.columns, fill_value=0)\n",
        "\n",
        "# 테스트 데이터를 사용하여 소득 예측\n",
        "predicted_income = model.predict(test_df)\n",
        "\n",
        "# 예측된 소득과 ID를 데이터프레임으로 만듭니다.\n",
        "predicted_df = pd.DataFrame({'ID': ids, 'Income': predicted_income})\n",
        "\n",
        "# CSV 파일로 저장합니다.\n",
        "predicted_df.to_csv('0401_1.csv', index=False)\n"
      ],
      "metadata": {
        "colab": {
          "base_uri": "https://localhost:8080/"
        },
        "id": "QrB64iPtBBmE",
        "outputId": "0276cc86-ba37-4fa2-cd88-b8ad667d265b"
      },
      "execution_count": null,
      "outputs": [
        {
          "output_type": "stream",
          "name": "stderr",
          "text": [
            "<ipython-input-29-e65415b8b481>:11: FutureWarning: The default value of numeric_only in DataFrame.median is deprecated. In a future version, it will default to False. In addition, specifying 'numeric_only=None' is deprecated. Select only valid columns or specify the value of numeric_only to silence this warning.\n",
            "  test_df.fillna(test_df.median(), inplace=True)\n"
          ]
        }
      ]
    },
    {
      "cell_type": "markdown",
      "source": [
        "# 1-2. 기본 LinearRegression에서 income이 음수인 경우 0으로 대체"
      ],
      "metadata": {
        "id": "GVEI172aD2L9"
      }
    },
    {
      "cell_type": "code",
      "source": [
        "import pandas as pd\n",
        "from sklearn.model_selection import train_test_split\n",
        "from sklearn.linear_model import LinearRegression\n",
        "from sklearn.metrics import mean_squared_error\n",
        "\n",
        "# 데이터 불러오기\n",
        "df = pd.read_csv('train.csv')\n",
        "\n",
        "# 'ID' 열 제거\n",
        "df = df.drop(columns=['ID'])\n",
        "\n",
        "# 결측치 처리 (예시로 각 열의 중앙값(median)으로 대체)\n",
        "df.fillna(df.median(), inplace=True)\n",
        "\n",
        "# 이산형 변수를 더미 변수로 변환\n",
        "df = pd.get_dummies(df)\n",
        "\n",
        "# 'income'을 예측하기 위한 특성과 타겟 분리\n",
        "X = df.drop(columns=['Income'])\n",
        "y = df['Income']\n",
        "\n",
        "# 데이터를 훈련 세트와 테스트 세트로 분할\n",
        "X_train, X_test, y_train, y_test = train_test_split(X, y, test_size=0.2, random_state=42)\n",
        "\n",
        "# 선형 회귀 모델 초기화 및 훈련\n",
        "model = LinearRegression()\n",
        "model.fit(X_train, y_train)\n",
        "\n",
        "# 테스트 세트를 사용하여 예측\n",
        "y_pred = model.predict(X_test)\n",
        "\n",
        "# 예측된 수입이 음수인 경우 0으로 저장\n",
        "y_pred_non_negative = [max(0, pred) for pred in y_pred]\n",
        "\n",
        "# RMSE 계산\n",
        "rmse = mean_squared_error(y_test, y_pred_non_negative, squared=False)\n",
        "print('Root Mean Squared Error (RMSE):', rmse)\n"
      ],
      "metadata": {
        "colab": {
          "base_uri": "https://localhost:8080/"
        },
        "id": "VWgQLIVvB2o9",
        "outputId": "400d5b92-dab7-4cd0-d9b9-fa87e42b5cfe"
      },
      "execution_count": null,
      "outputs": [
        {
          "output_type": "stream",
          "name": "stderr",
          "text": [
            "<ipython-input-35-d288cffd239c>:13: FutureWarning: The default value of numeric_only in DataFrame.median is deprecated. In a future version, it will default to False. In addition, specifying 'numeric_only=None' is deprecated. Select only valid columns or specify the value of numeric_only to silence this warning.\n",
            "  df.fillna(df.median(), inplace=True)\n"
          ]
        },
        {
          "output_type": "stream",
          "name": "stdout",
          "text": [
            "Root Mean Squared Error (RMSE): 595.518550471299\n"
          ]
        }
      ]
    },
    {
      "cell_type": "code",
      "source": [
        "import pandas as pd\n",
        "\n",
        "# 테스트 데이터 불러오기\n",
        "test_df = pd.read_csv('test.csv')  # 테스트 데이터 파일 경로에 따라 수정\n",
        "\n",
        "# 'ID' 열 저장 후 제거\n",
        "ids = test_df['ID']\n",
        "test_df = test_df.drop(columns=['ID'])\n",
        "\n",
        "# 결측치 처리 (예시로 각 열의 중앙값(median)으로 대체)\n",
        "test_df.fillna(test_df.median(), inplace=True)\n",
        "\n",
        "# 이산형 변수를 더미 변수로 변환\n",
        "test_df = pd.get_dummies(test_df)\n",
        "\n",
        "# 훈련 데이터와 동일한 열 순서를 맞춰줍니다.\n",
        "test_df = test_df.reindex(columns=X.columns, fill_value=0)\n",
        "\n",
        "# 테스트 데이터를 사용하여 소득 예측\n",
        "predicted_income = model.predict(test_df)\n",
        "\n",
        "# 예측된 소득과 ID를 데이터프레임으로 만듭니다.\n",
        "predicted_df = pd.DataFrame({'ID': ids, 'Income': predicted_income})\n",
        "\n",
        "# CSV 파일로 저장합니다.\n",
        "predicted_df.to_csv('0401_1.csv', index=False)\n"
      ],
      "metadata": {
        "colab": {
          "base_uri": "https://localhost:8080/"
        },
        "id": "oXr7qi7CEor_",
        "outputId": "4ddbf2ff-32b9-4876-c067-05f0c8a5fa94"
      },
      "execution_count": null,
      "outputs": [
        {
          "output_type": "stream",
          "name": "stderr",
          "text": [
            "<ipython-input-37-e65415b8b481>:11: FutureWarning: The default value of numeric_only in DataFrame.median is deprecated. In a future version, it will default to False. In addition, specifying 'numeric_only=None' is deprecated. Select only valid columns or specify the value of numeric_only to silence this warning.\n",
            "  test_df.fillna(test_df.median(), inplace=True)\n"
          ]
        }
      ]
    },
    {
      "cell_type": "code",
      "source": [
        "import pandas as pd\n",
        "\n",
        "# 테스트 데이터 불러오기\n",
        "test_df = pd.read_csv('test.csv')  # 테스트 데이터 파일 경로에 따라 수정\n",
        "\n",
        "# 'ID' 열 저장 후 제거\n",
        "ids = test_df['ID']\n",
        "test_df = test_df.drop(columns=['ID'])\n",
        "\n",
        "# 결측치 처리 (예시로 각 열의 중앙값(median)으로 대체)\n",
        "test_df.fillna(test_df.median(), inplace=True)\n",
        "\n",
        "# 이산형 변수를 더미 변수로 변환\n",
        "test_df = pd.get_dummies(test_df)\n",
        "\n",
        "# 훈련 데이터와 동일한 열 순서를 맞춰줍니다.\n",
        "test_df = test_df.reindex(columns=X.columns, fill_value=0)\n",
        "\n",
        "# 테스트 데이터를 사용하여 소득 예측\n",
        "predicted_income = model.predict(test_df)\n",
        "\n",
        "# 예측된 소득이 음수인 경우 0으로 저장\n",
        "predicted_income_non_negative = [max(0, pred) for pred in predicted_income]\n",
        "\n",
        "# 예측된 소득과 ID를 데이터프레임으로 만듭니다.\n",
        "predicted_df = pd.DataFrame({'ID': ids, 'Income': predicted_income_non_negative})\n",
        "\n",
        "# CSV 파일로 저장합니다.\n",
        "predicted_df.to_csv('0401_2.csv', index=False)\n"
      ],
      "metadata": {
        "colab": {
          "base_uri": "https://localhost:8080/"
        },
        "id": "AOE3isvEFOf0",
        "outputId": "5a2d59a0-7886-4e76-d715-d9e1f0cb8faf"
      },
      "execution_count": null,
      "outputs": [
        {
          "output_type": "stream",
          "name": "stderr",
          "text": [
            "<ipython-input-36-e1c006292e6b>:11: FutureWarning: The default value of numeric_only in DataFrame.median is deprecated. In a future version, it will default to False. In addition, specifying 'numeric_only=None' is deprecated. Select only valid columns or specify the value of numeric_only to silence this warning.\n",
            "  test_df.fillna(test_df.median(), inplace=True)\n"
          ]
        }
      ]
    },
    {
      "cell_type": "markdown",
      "source": [
        "# 1-3. income이 음수인 경우 train 시 income의 평균값으로 대체"
      ],
      "metadata": {
        "id": "nY1BOeqGGdH3"
      }
    },
    {
      "cell_type": "code",
      "source": [
        "import pandas as pd\n",
        "from sklearn.model_selection import train_test_split\n",
        "from sklearn.linear_model import LinearRegression\n",
        "from sklearn.metrics import mean_squared_error\n",
        "\n",
        "# 데이터 불러오기\n",
        "df = pd.read_csv('train.csv')\n",
        "\n",
        "# 'ID' 열 제거\n",
        "df = df.drop(columns=['ID'])\n",
        "\n",
        "# 결측치 처리 (예시로 각 열의 중앙값(median)으로 대체)\n",
        "df.fillna(df.median(), inplace=True)\n",
        "\n",
        "# 이산형 변수를 더미 변수로 변환\n",
        "df = pd.get_dummies(df)\n",
        "\n",
        "# 'income'을 예측하기 위한 특성과 타겟 분리\n",
        "X = df.drop(columns=['Income'])\n",
        "y = df['Income']\n",
        "\n",
        "# 데이터를 훈련 세트와 테스트 세트로 분할\n",
        "X_train, X_test, y_train, y_test = train_test_split(X, y, test_size=0.2, random_state=42)\n",
        "\n",
        "# 선형 회귀 모델 초기화 및 훈련\n",
        "model = LinearRegression()\n",
        "model.fit(X_train, y_train)\n",
        "\n",
        "# 테스트 세트를 사용하여 예측\n",
        "y_pred = model.predict(X_test)\n",
        "\n",
        "# 예측된 수입이 음수인 경우 훈련 데이터의 'Income' 열의 평균값으로 대체\n",
        "income_mean = y_train.mean()\n",
        "y_pred_non_negative = [max(income_mean, pred) for pred in y_pred]\n",
        "\n",
        "# RMSE 계산\n",
        "rmse = mean_squared_error(y_test, y_pred_non_negative, squared=False)\n",
        "print('Root Mean Squared Error (RMSE):', rmse)\n",
        "\n",
        "# 테스트 데이터 불러오기\n",
        "test_df = pd.read_csv('test.csv')  # 테스트 데이터 파일 경로에 따라 수정\n",
        "\n",
        "# 'ID' 열 저장 후 제거\n",
        "ids = test_df['ID']\n",
        "test_df = test_df.drop(columns=['ID'])\n",
        "\n",
        "# 결측치 처리 (예시로 각 열의 중앙값(median)으로 대체)\n",
        "test_df.fillna(test_df.median(), inplace=True)\n",
        "\n",
        "# 이산형 변수를 더미 변수로 변환\n",
        "test_df = pd.get_dummies(test_df)\n",
        "\n",
        "# 훈련 데이터와 동일한 열 순서를 맞춰줍니다.\n",
        "test_df = test_df.reindex(columns=X.columns, fill_value=0)\n",
        "\n",
        "# 테스트 데이터를 사용하여 소득 예측\n",
        "predicted_income = model.predict(test_df)\n",
        "\n",
        "# 예측된 소득이 음수인 경우 훈련 데이터의 'Income' 열의 평균값으로 대체\n",
        "predicted_income_non_negative = [max(income_mean, pred) for pred in predicted_income]\n",
        "\n",
        "# 예측된 소득과 ID를 데이터프레임으로 만듭니다.\n",
        "predicted_df = pd.DataFrame({'ID': ids, 'Income': predicted_income_non_negative})\n",
        "\n",
        "# CSV 파일로 저장합니다.\n",
        "predicted_df.to_csv('0401_3.csv', index=False)\n"
      ],
      "metadata": {
        "colab": {
          "base_uri": "https://localhost:8080/"
        },
        "id": "jpgVcMS-GdrC",
        "outputId": "f4183bb5-a067-48e6-b840-f640973bc2c9"
      },
      "execution_count": null,
      "outputs": [
        {
          "output_type": "stream",
          "name": "stderr",
          "text": [
            "<ipython-input-46-b230aaff2672>:13: FutureWarning: The default value of numeric_only in DataFrame.median is deprecated. In a future version, it will default to False. In addition, specifying 'numeric_only=None' is deprecated. Select only valid columns or specify the value of numeric_only to silence this warning.\n",
            "  df.fillna(df.median(), inplace=True)\n"
          ]
        },
        {
          "output_type": "stream",
          "name": "stdout",
          "text": [
            "Root Mean Squared Error (RMSE): 655.3693576977836\n"
          ]
        },
        {
          "output_type": "stream",
          "name": "stderr",
          "text": [
            "<ipython-input-46-b230aaff2672>:48: FutureWarning: The default value of numeric_only in DataFrame.median is deprecated. In a future version, it will default to False. In addition, specifying 'numeric_only=None' is deprecated. Select only valid columns or specify the value of numeric_only to silence this warning.\n",
            "  test_df.fillna(test_df.median(), inplace=True)\n"
          ]
        }
      ]
    },
    {
      "cell_type": "markdown",
      "source": [
        "# 2. RandomForestRegressor\n",
        "- Linear Regression보다 낮은 성능으로 나옴"
      ],
      "metadata": {
        "id": "BpGn_3_6E0Zi"
      }
    },
    {
      "cell_type": "code",
      "source": [
        "import pandas as pd\n",
        "from sklearn.model_selection import train_test_split\n",
        "from sklearn.ensemble import RandomForestRegressor\n",
        "from sklearn.metrics import mean_squared_error\n",
        "\n",
        "# 데이터 불러오기\n",
        "df = pd.read_csv('train.csv')\n",
        "\n",
        "# 'ID' 열 제거\n",
        "df = df.drop(columns=['ID'])\n",
        "\n",
        "# 결측치 처리 (예시로 각 열의 중앙값(median)으로 대체)\n",
        "df.fillna(df.median(), inplace=True)\n",
        "\n",
        "# 이산형 변수를 더미 변수로 변환\n",
        "df = pd.get_dummies(df)\n",
        "\n",
        "# 'income'을 예측하기 위한 특성과 타겟 분리\n",
        "X = df.drop(columns=['Income'])\n",
        "y = df['Income']\n",
        "\n",
        "# 데이터를 훈련 세트와 테스트 세트로 분할\n",
        "X_train, X_test, y_train, y_test = train_test_split(X, y, test_size=0.2, random_state=42)\n",
        "\n",
        "# RandomForestRegressor 모델 초기화 및 훈련\n",
        "model = RandomForestRegressor(random_state=42)\n",
        "model.fit(X_train, y_train)\n",
        "\n",
        "# 테스트 세트를 사용하여 예측\n",
        "y_pred = model.predict(X_test)\n",
        "\n",
        "# 예측된 수입이 음수인 경우 0으로 저장\n",
        "y_pred_non_negative = [max(0, pred) for pred in y_pred]\n",
        "\n",
        "# RMSE 계산\n",
        "rmse = mean_squared_error(y_test, y_pred_non_negative, squared=False)\n",
        "print('Root Mean Squared Error (RMSE):', rmse)\n"
      ],
      "metadata": {
        "colab": {
          "base_uri": "https://localhost:8080/"
        },
        "id": "pkyqFLzJEqCn",
        "outputId": "d5111158-3173-48fc-d40b-26403ecabf2f"
      },
      "execution_count": null,
      "outputs": [
        {
          "output_type": "stream",
          "name": "stderr",
          "text": [
            "<ipython-input-44-9a8cd2bf7e5b>:13: FutureWarning: The default value of numeric_only in DataFrame.median is deprecated. In a future version, it will default to False. In addition, specifying 'numeric_only=None' is deprecated. Select only valid columns or specify the value of numeric_only to silence this warning.\n",
            "  df.fillna(df.median(), inplace=True)\n"
          ]
        },
        {
          "output_type": "stream",
          "name": "stdout",
          "text": [
            "Root Mean Squared Error (RMSE): 627.3643221354776\n"
          ]
        }
      ]
    },
    {
      "cell_type": "code",
      "source": [
        "import pandas as pd\n",
        "\n",
        "# 테스트 데이터 불러오기\n",
        "test_df = pd.read_csv('test.csv')\n",
        "\n",
        "# 'ID' 열 저장 후 제거\n",
        "ids = test_df['ID']\n",
        "test_df = test_df.drop(columns=['ID'])\n",
        "\n",
        "# 결측치 처리 (예시로 각 열의 중앙값(median)으로 대체)\n",
        "test_df.fillna(test_df.median(), inplace=True)\n",
        "\n",
        "# 이산형 변수를 더미 변수로 변환\n",
        "test_df = pd.get_dummies(test_df)\n",
        "\n",
        "# 훈련 데이터와 동일한 열 순서를 맞춰줍니다.\n",
        "test_df = test_df.reindex(columns=X.columns, fill_value=0)\n",
        "\n",
        "# 테스트 데이터를 사용하여 소득 예측\n",
        "predicted_income = model.predict(test_df)\n",
        "\n",
        "# 예측된 소득이 음수인 경우 0으로 저장\n",
        "predicted_income_non_negative = [max(0, pred) for pred in predicted_income]\n",
        "\n",
        "# 예측된 소득과 ID를 데이터프레임으로 만듭니다.\n",
        "predicted_df = pd.DataFrame({'ID': ids, 'Income': predicted_income_non_negative})\n",
        "\n",
        "# CSV 파일로 저장합니다.\n",
        "predicted_df.to_csv('0401_4.csv', index=False)\n"
      ],
      "metadata": {
        "colab": {
          "base_uri": "https://localhost:8080/"
        },
        "id": "JaeYMSmHEy-n",
        "outputId": "4c0f7c03-1bcc-4817-b6fa-1d296b1e5348"
      },
      "execution_count": null,
      "outputs": [
        {
          "output_type": "stream",
          "name": "stderr",
          "text": [
            "<ipython-input-45-8fda5936107d>:11: FutureWarning: The default value of numeric_only in DataFrame.median is deprecated. In a future version, it will default to False. In addition, specifying 'numeric_only=None' is deprecated. Select only valid columns or specify the value of numeric_only to silence this warning.\n",
            "  test_df.fillna(test_df.median(), inplace=True)\n"
          ]
        }
      ]
    },
    {
      "cell_type": "code",
      "source": [
        "import pandas as pd\n",
        "from sklearn.model_selection import train_test_split\n",
        "from sklearn.ensemble import RandomForestRegressor\n",
        "from sklearn.metrics import mean_squared_error\n",
        "\n",
        "# 데이터 불러오기\n",
        "df = pd.read_csv('train.csv')\n",
        "\n",
        "# 'ID' 열 제거\n",
        "df = df.drop(columns=['ID'])\n",
        "\n",
        "# 결측치 처리 (예시로 각 열의 중앙값(median)으로 대체)\n",
        "df.fillna(df.median(), inplace=True)\n",
        "\n",
        "# 이산형 변수를 더미 변수로 변환\n",
        "df = pd.get_dummies(df)\n",
        "\n",
        "# 'income'을 예측하기 위한 특성과 타겟 분리\n",
        "X = df.drop(columns=['Income'])\n",
        "y = df['Income']\n",
        "\n",
        "# 데이터를 훈련 세트와 테스트 세트로 분할\n",
        "X_train, X_test, y_train, y_test = train_test_split(X, y, test_size=0.2, random_state=42)\n",
        "\n",
        "# RandomForestRegressor 모델 초기화 및 훈련\n",
        "model = RandomForestRegressor(random_state=42)\n",
        "model.fit(X_train, y_train)\n",
        "\n",
        "# 테스트 세트를 사용하여 예측\n",
        "y_pred = model.predict(X_test)\n",
        "\n",
        "# 예측된 수입이 음수인 경우 훈련 데이터의 'Income' 열의 평균값으로 대체\n",
        "income_mean = df['Income'].mean()\n",
        "y_pred_non_negative = [max(income_mean, pred) for pred in y_pred]\n",
        "\n",
        "# RMSE 계산\n",
        "rmse = mean_squared_error(y_test, y_pred_non_negative, squared=False)\n",
        "print('Root Mean Squared Error (RMSE):', rmse)\n",
        "\n",
        "# 테스트 데이터를 사용하여 소득 예측\n",
        "predicted_income = model.predict(test_df)\n",
        "\n",
        "# 예측된 소득이 음수인 경우 훈련 데이터의 'Income' 열의 평균값으로 대체\n",
        "predicted_income_non_negative = [max(income_mean, pred) for pred in predicted_income]\n",
        "\n",
        "# 예측된 소득과 ID를 데이터프레임으로 만듭니다.\n",
        "predicted_df = pd.DataFrame({'ID': ids, 'Income': predicted_income_non_negative})\n",
        "\n",
        "# CSV 파일로 저장합니다.\n",
        "predicted_df.to_csv('0401_5.csv', index=False)\n"
      ],
      "metadata": {
        "colab": {
          "base_uri": "https://localhost:8080/"
        },
        "id": "msJfpetyFVpn",
        "outputId": "a0c5f3e5-ce41-4c0b-d9c8-1acd9b243b7d"
      },
      "execution_count": null,
      "outputs": [
        {
          "output_type": "stream",
          "name": "stderr",
          "text": [
            "<ipython-input-43-6d8941dbc00f>:13: FutureWarning: The default value of numeric_only in DataFrame.median is deprecated. In a future version, it will default to False. In addition, specifying 'numeric_only=None' is deprecated. Select only valid columns or specify the value of numeric_only to silence this warning.\n",
            "  df.fillna(df.median(), inplace=True)\n"
          ]
        },
        {
          "output_type": "stream",
          "name": "stdout",
          "text": [
            "Root Mean Squared Error (RMSE): 683.9420933023581\n"
          ]
        }
      ]
    }
  ]
}